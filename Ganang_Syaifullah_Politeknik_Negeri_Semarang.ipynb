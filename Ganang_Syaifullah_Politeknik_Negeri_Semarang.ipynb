{
  "nbformat": 4,
  "nbformat_minor": 0,
  "metadata": {
    "colab": {
      "provenance": [],
      "name": "Ganang Syaifullah_Politeknik Negeri Semarang.ipynb",
      "authorship_tag": "ABX9TyOuLZty19UFS36QZobhYzKz",
      "include_colab_link": true
    },
    "kernelspec": {
      "name": "python3",
      "display_name": "Python 3"
    },
    "language_info": {
      "name": "python"
    }
  },
  "cells": [
    {
      "cell_type": "markdown",
      "metadata": {
        "id": "view-in-github",
        "colab_type": "text"
      },
      "source": [
        "<a href=\"https://colab.research.google.com/github/Zaxzz/Samsung_Inovasion_Campus_7/blob/main/Ganang_Syaifullah_Politeknik_Negeri_Semarang.ipynb\" target=\"_parent\"><img src=\"https://colab.research.google.com/assets/colab-badge.svg\" alt=\"Open In Colab\"/></a>"
      ]
    },
    {
      "cell_type": "markdown",
      "source": [
        "## Tugas 1"
      ],
      "metadata": {
        "id": "K7Oh0qwk3iGQ"
      }
    },
    {
      "cell_type": "code",
      "execution_count": null,
      "metadata": {
        "colab": {
          "base_uri": "https://localhost:8080/"
        },
        "id": "2p4HhekU1f0l",
        "outputId": "0a7076f7-5fbb-40d1-c666-ca5d556f34c0"
      },
      "outputs": [
        {
          "output_type": "stream",
          "name": "stdout",
          "text": [
            "Nama produk 1: Kopi Pagi\n",
            "\n",
            "Harga produk 1: 18000.5\n",
            "\n",
            "Nama produk 2: Roti Cokelat\n",
            "\n",
            "Harga produk 2: 10000\n",
            "\n",
            "Status ketersediaan roti: True\n"
          ]
        }
      ],
      "source": [
        "nama_produk_1 = \"Kopi Pagi\"\n",
        "harga_produk_1 = 18000.5\n",
        "nama_produk_2 = \"Roti Cokelat\"\n",
        "harga_produk_2 = 10000\n",
        "status_ketersediaan_roti = True\n",
        "\n",
        "print(f\"Nama produk 1: {nama_produk_1}\\n\")\n",
        "print(f\"Harga produk 1: {harga_produk_1}\\n\")\n",
        "print(f\"Nama produk 2: {nama_produk_2}\\n\")\n",
        "print(f\"Harga produk 2: {harga_produk_2}\\n\")\n",
        "print(f\"Status ketersediaan roti: {status_ketersediaan_roti}\")"
      ]
    },
    {
      "cell_type": "markdown",
      "source": [
        "## Tugas 2"
      ],
      "metadata": {
        "id": "rhvf325a3fhd"
      }
    },
    {
      "cell_type": "code",
      "source": [
        "jumlah_kopi_str = input(\"Masukkan jumlah pesanan kopi: \")\n",
        "print()\n",
        "jumlah_roti_str = input(\"Masukkan jumlah pesanan roti: \")\n",
        "print()\n",
        "\n",
        "print(f\"Tipe data awal jumlah kopi: {type(jumlah_kopi_str)}\\n\")\n",
        "print(f\"Tipe data awal jumlah roti: {type(jumlah_roti_str)}\\n\")\n",
        "\n",
        "jumlah_kopi_int = int(jumlah_kopi_str)\n",
        "jumlah_roti_int = int(jumlah_roti_str)\n",
        "\n",
        "print(f\"Tipe data setelah konversi (kopi): {type(jumlah_kopi_int)}\\n\")\n",
        "print(f\"Tipe data setelah konversi (roti): {type(jumlah_roti_int)}\")\n"
      ],
      "metadata": {
        "colab": {
          "base_uri": "https://localhost:8080/"
        },
        "id": "XuHCKb303hWi",
        "outputId": "b501567c-3591-4d5d-8925-f3c64276b4be"
      },
      "execution_count": null,
      "outputs": [
        {
          "output_type": "stream",
          "name": "stdout",
          "text": [
            "Masukkan jumlah pesanan kopi: 2\n",
            "\n",
            "Masukkan jumlah pesanan roti: 2\n",
            "\n",
            "Tipe data awal jumlah kopi: <class 'str'>\n",
            "\n",
            "Tipe data awal jumlah roti: <class 'str'>\n",
            "\n",
            "Tipe data setelah konversi (kopi): <class 'int'>\n",
            "\n",
            "Tipe data setelah konversi (roti): <class 'int'>\n"
          ]
        }
      ]
    },
    {
      "cell_type": "markdown",
      "source": [
        "## Tugas 3"
      ],
      "metadata": {
        "id": "TTWDMpU8_tJ1"
      }
    },
    {
      "cell_type": "code",
      "source": [
        "harga_kopi = 18000.5\n",
        "harga_roti = 10000\n",
        "\n",
        "total_harga_kopi = harga_kopi * jumlah_kopi_int\n",
        "total_harga_roti = harga_roti * jumlah_roti_int\n",
        "\n",
        "total_belanja = total_harga_kopi + total_harga_roti\n",
        "\n",
        "uang_bayar = 50000\n",
        "kembalian = uang_bayar - total_belanja\n",
        "\n",
        "print(f\"Total harga kopi: {total_harga_kopi}\\n\")\n",
        "print(f\"Total harga roti: {total_harga_roti}\\n\")\n",
        "print(f\"Total belanja keseluruhan: {total_belanja}\\n\")\n",
        "print(f\"Uang yang dibayarkan: {uang_bayar}\\n\")\n",
        "print(f\"Kembalian: {kembalian}\")\n"
      ],
      "metadata": {
        "colab": {
          "base_uri": "https://localhost:8080/"
        },
        "id": "uANCE-f-_umc",
        "outputId": "f7d641a0-12fd-42ce-86b1-ad522d953b03"
      },
      "execution_count": null,
      "outputs": [
        {
          "output_type": "stream",
          "name": "stdout",
          "text": [
            "Total harga kopi: 36001.0\n",
            "\n",
            "Total harga roti: 20000\n",
            "\n",
            "Total belanja keseluruhan: 56001.0\n",
            "\n",
            "Uang yang dibayarkan: 50000\n",
            "\n",
            "Kembalian: -6001.0\n"
          ]
        }
      ]
    },
    {
      "cell_type": "markdown",
      "source": [
        "## Tugas 4"
      ],
      "metadata": {
        "id": "BgYNvZEEAOL4"
      }
    },
    {
      "cell_type": "code",
      "source": [
        "try:\n",
        "    nama_produk_1\n",
        "except NameError:\n",
        "    nama_produk_1 = \"Kopi Pagi\"\n",
        "\n",
        "try:\n",
        "    total_harga_kopi\n",
        "except NameError:\n",
        "    harga_kopi = 18000.5\n",
        "    jumlah_kopi_int = 2\n",
        "    total_harga_kopi = harga_kopi * jumlah_kopi_int\n",
        "\n",
        "nama_pelanggan = input(\"Masukkan nama pelanggan: \")\n",
        "\n",
        "pesan_terima_kasih = \"Terima kasih, \" + nama_pelanggan + \" sudah berbelanja di Coffee Shop Bahagia!\"\n",
        "\n",
        "garis = \"*\" * 25\n",
        "print(garis)\n",
        "print()\n",
        "print(pesan_terima_kasih)\n",
        "print()\n",
        "print(garis)\n",
        "print()\n",
        "\n",
        "print(f\"Total harga {nama_produk_1} adalah Rp{total_harga_kopi}\")\n"
      ],
      "metadata": {
        "colab": {
          "base_uri": "https://localhost:8080/"
        },
        "id": "iZw47BfWAQTd",
        "outputId": "bd8c09e2-fce7-4ba7-9224-894231acb831"
      },
      "execution_count": null,
      "outputs": [
        {
          "output_type": "stream",
          "name": "stdout",
          "text": [
            "Masukkan nama pelanggan: Ganang Syaifullah\n",
            "*************************\n",
            "\n",
            "Terima kasih, Ganang Syaifullah sudah berbelanja di Coffee Shop Bahagia!\n",
            "\n",
            "*************************\n",
            "\n",
            "Total harga Kopi Pagi adalah Rp36001.0\n"
          ]
        }
      ]
    }
  ]
}